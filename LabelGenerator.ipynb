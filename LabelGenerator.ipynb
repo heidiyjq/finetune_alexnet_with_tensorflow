{
 "cells": [
  {
   "cell_type": "markdown",
   "metadata": {},
   "source": [
    "#### 根据文件夹进行标注文件自动生成"
   ]
  },
  {
   "cell_type": "code",
   "execution_count": 2,
   "metadata": {},
   "outputs": [],
   "source": [
    "import os"
   ]
  },
  {
   "cell_type": "code",
   "execution_count": 14,
   "metadata": {},
   "outputs": [],
   "source": [
    "def CLLabelGenerator(txt_file, write_file):\n",
    "    writefile = open(write_file,'w')\n",
    "    nCLNum = 0\n",
    "    for CLRelativeFile in os.listdir(txt_file):\n",
    "        CLAbsoluteFile = txt_file + '/' + CLRelativeFile\n",
    "        if(os.path.isdir(CLAbsoluteFile)):\n",
    "            for imageFile in os.listdir(CLAbsoluteFile):\n",
    "                writefile.write(CLAbsoluteFile + '/'+imageFile + ' '+str(nCLNum) +'\\n')\n",
    "            nCLNum = nCLNum + 1\n",
    "\n",
    "    writefile.close()"
   ]
  },
  {
   "cell_type": "code",
   "execution_count": 15,
   "metadata": {},
   "outputs": [],
   "source": [
    "txt_file = '/home/rainsun/test'\n",
    "write_file ='/home/rainsun/test/a.txt'\n",
    "CLLabelGenerator(txt_file, write_file)"
   ]
  },
  {
   "cell_type": "code",
   "execution_count": null,
   "metadata": {},
   "outputs": [],
   "source": []
  }
 ],
 "metadata": {
  "kernelspec": {
   "display_name": "Python 3",
   "language": "python",
   "name": "python3"
  },
  "language_info": {
   "codemirror_mode": {
    "name": "ipython",
    "version": 3
   },
   "file_extension": ".py",
   "mimetype": "text/x-python",
   "name": "python",
   "nbconvert_exporter": "python",
   "pygments_lexer": "ipython3",
   "version": "3.6.6"
  }
 },
 "nbformat": 4,
 "nbformat_minor": 2
}
